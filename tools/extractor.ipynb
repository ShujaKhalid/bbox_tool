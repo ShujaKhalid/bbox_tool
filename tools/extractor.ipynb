{
 "cells": [
  {
   "cell_type": "code",
   "execution_count": 1,
   "metadata": {},
   "outputs": [],
   "source": [
    "import numpy\n",
    "import matplotlib.pyplot as plt\n",
    "import cv2\n",
    "from subprocess import call\n",
    "import os\n",
    "import json\n",
    "import glob"
   ]
  },
  {
   "cell_type": "code",
   "execution_count": 1,
   "metadata": {},
   "outputs": [
    {
     "ename": "NameError",
     "evalue": "name 'cv2' is not defined",
     "output_type": "error",
     "traceback": [
      "\u001b[1;31m---------------------------------------------------------------------------\u001b[0m",
      "\u001b[1;31mNameError\u001b[0m                                 Traceback (most recent call last)",
      "\u001b[1;32m<ipython-input-1-74fdc1c7a436>\u001b[0m in \u001b[0;36m<module>\u001b[1;34m()\u001b[0m\n\u001b[0;32m      1\u001b[0m \u001b[1;31m# Link to video location here\u001b[0m\u001b[1;33m\u001b[0m\u001b[1;33m\u001b[0m\u001b[0m\n\u001b[1;32m----> 2\u001b[1;33m \u001b[0mvideo\u001b[0m \u001b[1;33m=\u001b[0m \u001b[0mcv2\u001b[0m\u001b[1;33m.\u001b[0m\u001b[0mVideoCapture\u001b[0m\u001b[1;33m(\u001b[0m\u001b[1;34m'./tool_video_04.mp4'\u001b[0m\u001b[1;33m)\u001b[0m\u001b[1;33m\u001b[0m\u001b[0m\n\u001b[0m\u001b[0;32m      3\u001b[0m \u001b[0msuccess\u001b[0m\u001b[1;33m,\u001b[0m \u001b[0mimage\u001b[0m \u001b[1;33m=\u001b[0m \u001b[0mvideo\u001b[0m\u001b[1;33m.\u001b[0m\u001b[0mread\u001b[0m\u001b[1;33m(\u001b[0m\u001b[1;33m)\u001b[0m\u001b[1;33m\u001b[0m\u001b[0m\n\u001b[0;32m      4\u001b[0m \u001b[0mcount\u001b[0m \u001b[1;33m=\u001b[0m \u001b[1;36m0\u001b[0m\u001b[1;33m\u001b[0m\u001b[0m\n\u001b[0;32m      5\u001b[0m \u001b[0msuccess\u001b[0m \u001b[1;33m=\u001b[0m \u001b[1;32mTrue\u001b[0m\u001b[1;33m\u001b[0m\u001b[0m\n",
      "\u001b[1;31mNameError\u001b[0m: name 'cv2' is not defined"
     ]
    }
   ],
   "source": [
    "# Link to video location here\n",
    "video = cv2.VideoCapture('./tool_video_04.mp4')\n",
    "success, image = video.read()\n",
    "count = 0\n",
    "success = True\n",
    "\n",
    "#image_crop = image[60:284, 140:480]\n",
    "#image_resize = cv2.resize(image_crop, (224,224))\n",
    "# plt.imshow(image)\n",
    "# plt.figure()\n",
    "# plt.imshow(image_crop)\n",
    "# plt.figure()\n",
    "# plt.imshow(image_resize)\n",
    "\n",
    "# Load video and extract frames here and save to specified location\n",
    "while success:\n",
    "    # Read every frame\n",
    "    success, image = video.read()\n",
    "    if (success):\n",
    "        #image_crop = image[60:284, 140:480]\n",
    "        #image_resize = cv2.resize(image_crop, (224,224))\n",
    "        if (count%50==0):\n",
    "            cv2.imwrite(\"./src/img_vid1/frame%d.jpg\"%count, image)\n",
    "            print('Writing frame (' + str(count) + '): ' + str(success))\n",
    "#             plt.figure()\n",
    "#             plt.imshow(image)\n",
    "\n",
    "        count+=1\n",
    "    \n",
    "# Copy files to source destination\n",
    "# call([\"cp\", \"-pR\", \"./img_vid1\", \"./src/\"])\n",
    "\n",
    "# Write filenames to a json file\n",
    "filenames = glob.glob('./src/img_vid1/*.jpg')\n",
    "print(filenames)\n",
    "\n",
    "# Create a json formatted string \n",
    "# data = {'filenames': filenames}\n",
    "data = filenames\n",
    "\n",
    "with open('./src/filenames.json', 'w') as fn:\n",
    "    json.dump(data, fn, ensure_ascii=False)\n",
    "    \n",
    "# Run the server from here for annotating data\n",
    "# call([\"node\", \"./server/server.js\", \"&\"])\n",
    "# call([\"npm\",\"start\", \"&\"])\n",
    "# os.system(\"node ./server/server.js &\")\n",
    "# os.system(\"npm start &\")"
   ]
  },
  {
   "cell_type": "code",
   "execution_count": null,
   "metadata": {},
   "outputs": [],
   "source": []
  }
 ],
 "metadata": {
  "kernelspec": {
   "display_name": "Python 3",
   "language": "python",
   "name": "python3"
  },
  "language_info": {
   "codemirror_mode": {
    "name": "ipython",
    "version": 3
   },
   "file_extension": ".py",
   "mimetype": "text/x-python",
   "name": "python",
   "nbconvert_exporter": "python",
   "pygments_lexer": "ipython3",
   "version": "3.6.5"
  }
 },
 "nbformat": 4,
 "nbformat_minor": 2
}
